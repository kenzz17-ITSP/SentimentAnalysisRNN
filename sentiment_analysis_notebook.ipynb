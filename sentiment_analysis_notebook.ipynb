{
  "nbformat": 4,
  "nbformat_minor": 0,
  "metadata": {
    "colab": {
      "name": "Copy of sentiment analysis final",
      "provenance": [],
      "collapsed_sections": []
    },
    "kernelspec": {
      "name": "python3",
      "display_name": "Python 3"
    },
    "accelerator": "TPU"
  },
  "cells": [
    {
      "cell_type": "code",
      "metadata": {
        "id": "-1aCEgG2M76F",
        "colab_type": "code",
        "colab": {
          "base_uri": "https://localhost:8080/",
          "height": 129
        },
        "outputId": "05c38c9f-259f-4d73-d2c9-53856a7d33ab"
      },
      "source": [
        "from google.colab import drive\n",
        "drive.mount('/content/drive')"
      ],
      "execution_count": null,
      "outputs": [
        {
          "output_type": "stream",
          "text": [
            "Go to this URL in a browser: https://accounts.google.com/o/oauth2/auth?client_id=947318989803-6bn6qk8qdgf4n4g3pfee6491hc0brc4i.apps.googleusercontent.com&redirect_uri=urn%3aietf%3awg%3aoauth%3a2.0%3aoob&response_type=code&scope=email%20https%3a%2f%2fwww.googleapis.com%2fauth%2fdocs.test%20https%3a%2f%2fwww.googleapis.com%2fauth%2fdrive%20https%3a%2f%2fwww.googleapis.com%2fauth%2fdrive.photos.readonly%20https%3a%2f%2fwww.googleapis.com%2fauth%2fpeopleapi.readonly\n",
            "\n",
            "Enter your authorization code:\n",
            "··········\n",
            "Mounted at /content/drive\n"
          ],
          "name": "stdout"
        }
      ]
    },
    {
      "cell_type": "code",
      "metadata": {
        "id": "y2b1jboANGz7",
        "colab_type": "code",
        "colab": {
          "base_uri": "https://localhost:8080/",
          "height": 70
        },
        "outputId": "2014777b-7755-43d6-941a-73bcc28a08aa"
      },
      "source": [
        "import pandas as pd\n",
        "import pickle\n",
        "import re\n",
        "import string\n",
        "import numpy as np\n",
        "\n",
        "import tensorflow as tf\n",
        "print(tf.__version__)\n",
        "\n",
        "import matplotlib.pyplot as plt\n",
        "%matplotlib inline\n",
        "\n",
        "import nltk\n",
        "from nltk.corpus import stopwords\n",
        "nltk.download('stopwords')\n",
        "from  nltk.stem import SnowballStemmer\n",
        "\n",
        "\n",
        "from tensorflow.keras.preprocessing.text import Tokenizer\n",
        "from tensorflow.keras.preprocessing.sequence import pad_sequences\n",
        "from tensorflow.keras.utils import to_categorical\n",
        "from tensorflow.keras import regularizers\n",
        "from tensorflow.keras.layers import Activation, Embedding, Dropout, Flatten, MaxPooling1D, LSTM, Dense"
      ],
      "execution_count": null,
      "outputs": [
        {
          "output_type": "stream",
          "text": [
            "2.2.0\n",
            "[nltk_data] Downloading package stopwords to /root/nltk_data...\n",
            "[nltk_data]   Unzipping corpora/stopwords.zip.\n"
          ],
          "name": "stdout"
        }
      ]
    },
    {
      "cell_type": "code",
      "metadata": {
        "id": "vlSH_kUgOnVA",
        "colab_type": "code",
        "colab": {}
      },
      "source": [
        "stop_words = stopwords.words(\"english\")\n",
        "stemmer =  SnowballStemmer(\"english\")\n",
        "\n",
        "embedding_dim = 100\n",
        "max_length = 100\n",
        "trunc_type='post'\n",
        "padding_type='post'\n",
        "oov_tok = \"<OOV>\"\n",
        "training_size = 1600000"
      ],
      "execution_count": null,
      "outputs": []
    },
    {
      "cell_type": "code",
      "metadata": {
        "id": "t-Y2hxqnxdUX",
        "colab_type": "code",
        "colab": {
          "base_uri": "https://localhost:8080/",
          "height": 34
        },
        "outputId": "08cbf148-8585-406e-f8a5-133e17cb8383"
      },
      "source": [
        "stop_words = ['i', 'me', 'my', 'myself', 'we', 'our', 'ours', 'ourselves', 'you', \"you're\", \"you've\", \"you'll\", \"you'd\", 'your', 'yours', 'yourself', 'yourselves', 'he', 'him', 'his', 'himself', 'she', \"she's\", 'her', 'hers', 'herself', 'it', \"it's\", 'its', 'itself', 'they', 'them', 'their', 'theirs', 'themselves', 'what', 'which', 'who', 'whom', 'this', 'that', \"that'll\", 'these', 'those', 'am', 'is', 'are', 'was', 'were', 'be', 'been', 'being', 'have', 'has', 'had', 'having', 'do', 'does', 'did', 'doing', 'a', 'an', 'the', 'and', 'but', 'if', 'or', 'because', 'as', 'until', 'while', 'of', 'at', 'by', 'for', 'with', 'about', 'against', 'between', 'into', 'through', 'during', 'before', 'after', 'above', 'below', 'to', 'from', 'up', 'down', 'in', 'out', 'on', 'off', 'over', 'under', 'again', 'further', 'then', 'once', 'here', 'there', 'when', 'where', 'why', 'how', 'all', 'any', 'both', 'each', 'few', 'more', 'most', 'other', 'some', 'such', 'only', 'own', 'same', 'so', 'than', 'too', 'very', 's', 't', 'can', 'will', 'just', 'don', 'should', \"should've\", 'now', 'd', 'll', 'm', 'o', 're', 've', 'y', 'ma', 'mightn', 'mustn', 'needn', 'shan']\n",
        "print(len(stop_words))"
      ],
      "execution_count": null,
      "outputs": [
        {
          "output_type": "stream",
          "text": [
            "144\n"
          ],
          "name": "stdout"
        }
      ]
    },
    {
      "cell_type": "code",
      "metadata": {
        "id": "xUJvODe1NHAf",
        "colab_type": "code",
        "colab": {}
      },
      "source": [
        "DATASET_COLUMNS = [\"target\", \"ids\", \"date\", \"flag\", \"user\", \"text\"]\n",
        "DATASET_ENCODING = \"ISO-8859-1\""
      ],
      "execution_count": null,
      "outputs": []
    },
    {
      "cell_type": "code",
      "metadata": {
        "id": "8z3KGgeONHKj",
        "colab_type": "code",
        "colab": {}
      },
      "source": [
        "#no need to run this cell as loaded preprocessed data is below\n",
        "dataset_path = '/content/drive/My Drive/trainingandtestdata/training_cleaned.csv'\n",
        "df = pd.read_csv(dataset_path, encoding =DATASET_ENCODING , names=DATASET_COLUMNS)"
      ],
      "execution_count": null,
      "outputs": []
    },
    {
      "cell_type": "code",
      "metadata": {
        "id": "XXL5q1-ANHVB",
        "colab_type": "code",
        "colab": {}
      },
      "source": [
        "#test data\n",
        "dataset_path_test = '/content/drive/My Drive/trainingandtestdata/testdata.manual.2009.06.14.csv'\n",
        "df_test = pd.read_csv(dataset_path_test, encoding =DATASET_ENCODING , names=DATASET_COLUMNS)\n",
        "\n",
        "df_filtered = df_test[df_test['target'] != 2]  #as test data have 3 labels, 0:negative, 2:neutral, 4:positive, so removing neutral data\n"
      ],
      "execution_count": null,
      "outputs": []
    },
    {
      "cell_type": "code",
      "metadata": {
        "id": "NZtSecLONHfp",
        "colab_type": "code",
        "colab": {}
      },
      "source": [
        "#preprocessing functions\n",
        "def strip_links(text):\n",
        "    link_regex    = re.compile('((https?):((//)|(\\\\\\\\))+([\\w\\d:#@%/;$()~_?\\+-=\\\\\\.&](#!)?)*)', re.DOTALL)\n",
        "    links         = re.findall(link_regex, text)\n",
        "    for link in links:\n",
        "        text = text.replace(link[0], ', ')    \n",
        "    return text\n",
        "\n",
        "def strip_all_entities(text):\n",
        "    entity_prefixes = ['@','#']\n",
        "    for separator in  string.punctuation:\n",
        "        if separator not in entity_prefixes :\n",
        "            text = text.replace(separator,' ')\n",
        "    words = []\n",
        "    for word in text.split():\n",
        "        word = word.strip()\n",
        "        if word:\n",
        "            if word[0] not in entity_prefixes:\n",
        "                words.append(word)\n",
        "    return ' '.join(words)\n",
        "\n",
        "def preprocess(line):\n",
        "    line = line.lower()\n",
        "    #stopwords removal\n",
        "    for word in stop_words:\n",
        "      token = \" \" + word + \" \"\n",
        "      line = line.replace(token, \" \")\n",
        "      line = line.replace(\"  \", \" \")\n",
        "    #stemming   \n",
        "    tokens = []\n",
        "    for token in line.split():\n",
        "      tokens.append(stemmer.stem(token))\n",
        "    return \" \".join(tokens)\n"
      ],
      "execution_count": null,
      "outputs": []
    },
    {
      "cell_type": "code",
      "metadata": {
        "id": "IQ4VRKMFHHP5",
        "colab_type": "code",
        "colab": {}
      },
      "source": [
        ""
      ],
      "execution_count": null,
      "outputs": []
    },
    {
      "cell_type": "code",
      "metadata": {
        "id": "533CauBwGoae",
        "colab_type": "code",
        "colab": {}
      },
      "source": [
        "df.text = df.text.apply(lambda x: strip_links(x))\n",
        "df.text = df.text.apply(lambda x: strip_all_entities(x))\n",
        "#df.text = df.text.apply(lambda x: preprocess(x))"
      ],
      "execution_count": null,
      "outputs": []
    },
    {
      "cell_type": "code",
      "metadata": {
        "id": "gJODPjTtGoyY",
        "colab_type": "code",
        "colab": {
          "base_uri": "https://localhost:8080/",
          "height": 195
        },
        "outputId": "4001fa03-30fb-406c-931e-f4f8ff7d5df4"
      },
      "source": [
        "df_new = df.drop(columns=['ids','date','flag','user'])\n",
        "df_new = df_new.sample(frac=1).reset_index(drop=True)\n",
        "df_new.head()"
      ],
      "execution_count": null,
      "outputs": [
        {
          "output_type": "execute_result",
          "data": {
            "text/html": [
              "<div>\n",
              "<style scoped>\n",
              "    .dataframe tbody tr th:only-of-type {\n",
              "        vertical-align: middle;\n",
              "    }\n",
              "\n",
              "    .dataframe tbody tr th {\n",
              "        vertical-align: top;\n",
              "    }\n",
              "\n",
              "    .dataframe thead th {\n",
              "        text-align: right;\n",
              "    }\n",
              "</style>\n",
              "<table border=\"1\" class=\"dataframe\">\n",
              "  <thead>\n",
              "    <tr style=\"text-align: right;\">\n",
              "      <th></th>\n",
              "      <th>target</th>\n",
              "      <th>text</th>\n",
              "    </tr>\n",
              "  </thead>\n",
              "  <tbody>\n",
              "    <tr>\n",
              "      <th>0</th>\n",
              "      <td>0</td>\n",
              "      <td>Woodhaven keeps me from my one true love in li...</td>\n",
              "    </tr>\n",
              "    <tr>\n",
              "      <th>1</th>\n",
              "      <td>0</td>\n",
              "      <td>I think I m done with driving for the day I ve...</td>\n",
              "    </tr>\n",
              "    <tr>\n",
              "      <th>2</th>\n",
              "      <td>0</td>\n",
              "      <td>eating in Emirates lounge in Incheon airport S...</td>\n",
              "    </tr>\n",
              "    <tr>\n",
              "      <th>3</th>\n",
              "      <td>4</td>\n",
              "      <td>is watching taylor swift s making of the fearl...</td>\n",
              "    </tr>\n",
              "    <tr>\n",
              "      <th>4</th>\n",
              "      <td>0</td>\n",
              "      <td>How do I carry boxes home on a bike I can t Ha...</td>\n",
              "    </tr>\n",
              "  </tbody>\n",
              "</table>\n",
              "</div>"
            ],
            "text/plain": [
              "   target                                               text\n",
              "0       0  Woodhaven keeps me from my one true love in li...\n",
              "1       0  I think I m done with driving for the day I ve...\n",
              "2       0  eating in Emirates lounge in Incheon airport S...\n",
              "3       4  is watching taylor swift s making of the fearl...\n",
              "4       0  How do I carry boxes home on a bike I can t Ha..."
            ]
          },
          "metadata": {
            "tags": []
          },
          "execution_count": 9
        }
      ]
    },
    {
      "cell_type": "code",
      "metadata": {
        "id": "f7RcAlHoG0LW",
        "colab_type": "code",
        "colab": {}
      },
      "source": [
        "sentence = df_new['text'].astype(str)\n",
        "sentence = np.array(sentence)\n",
        "y = df_new['target'].astype(float)"
      ],
      "execution_count": null,
      "outputs": []
    },
    {
      "cell_type": "code",
      "metadata": {
        "id": "fPQn64q1Xk9A",
        "colab_type": "code",
        "colab": {}
      },
      "source": [
        "df_new.to_csv('/content/drive/My Drive/preprocess_data.csv', index=False)"
      ],
      "execution_count": null,
      "outputs": []
    },
    {
      "cell_type": "code",
      "metadata": {
        "id": "zzcTSnOkQDf_",
        "colab_type": "code",
        "colab": {}
      },
      "source": [
        "#load cleaned data after preprocessing\n",
        "df = pd.read_csv('/content/drive/My Drive/preprocess_data.csv')\n",
        "\n",
        "sentence = df['text'].astype(str)\n",
        "sentence = np.array(sentence)\n",
        "y = df['target'].astype(float)"
      ],
      "execution_count": null,
      "outputs": []
    },
    {
      "cell_type": "code",
      "metadata": {
        "id": "En62Z5_cNHrO",
        "colab_type": "code",
        "colab": {
          "base_uri": "https://localhost:8080/",
          "height": 122
        },
        "outputId": "cbe60c0d-464d-40f6-f465-d299f9555c28"
      },
      "source": [
        "#test data\n",
        "df_filtered.text = df_filtered.text.apply(lambda x: strip_links(x))\n",
        "df_filtered.text = df_filtered.text.apply(lambda x: strip_all_entities(x))\n",
        "#df_filtered.text = df_filtered.text.apply(lambda x: preprocess(x))\n",
        "\n",
        "df_t = df_filtered.drop(columns=['ids','date','flag','user'])\n",
        "df_t['text'] = df_t['text'].astype(str)\n",
        "df_t['target'] = df_t['target'].astype(float)\n",
        "\n",
        "x_test = df_t['text'].astype(str)\n",
        "x_test = np.array(x_test)\n",
        "y_test = df_t['target'].astype(float)"
      ],
      "execution_count": null,
      "outputs": [
        {
          "output_type": "stream",
          "text": [
            "/usr/local/lib/python3.6/dist-packages/pandas/core/generic.py:5303: SettingWithCopyWarning: \n",
            "A value is trying to be set on a copy of a slice from a DataFrame.\n",
            "Try using .loc[row_indexer,col_indexer] = value instead\n",
            "\n",
            "See the caveats in the documentation: https://pandas.pydata.org/pandas-docs/stable/user_guide/indexing.html#returning-a-view-versus-a-copy\n",
            "  self[name] = value\n"
          ],
          "name": "stderr"
        }
      ]
    },
    {
      "cell_type": "code",
      "metadata": {
        "id": "b9UGFS6sNI7r",
        "colab_type": "code",
        "colab": {
          "base_uri": "https://localhost:8080/",
          "height": 34
        },
        "outputId": "376dd21f-2d96-4491-99b4-90806e848f17"
      },
      "source": [
        "#tokenizer\n",
        "\n",
        "tokenizer= Tokenizer(oov_token=oov_tok)\n",
        "tokenizer.fit_on_texts(sentence)\n",
        "#saving tokenizer\n",
        "pickle.dump(tokenizer, open(\"/content/drive/My Drive/sentiment analysis/tokenizerfinal.p\", \"wb\"))\n",
        "#load tokenizer\n",
        "tokenizer = pickle.load(open(\"/content/drive/My Drive/sentiment analysis/tokenizerfinal.p\", \"rb\"))\n",
        "\n",
        "word_index = tokenizer.word_index\n",
        "#save word_index\n",
        "pickle.dump(word_index, open(\"/content/drive/My Drive/sentiment analysis/word_indexfinal.p\", \"wb\"))\n",
        "#load word_index\n",
        "word_index = pickle.load(open(\"/content/drive/My Drive/sentiment analysis/word_indexfinal.p\", \"rb\"))\n",
        "vocab_size=len(word_index)\n",
        "print(vocab_size)"
      ],
      "execution_count": null,
      "outputs": [
        {
          "output_type": "stream",
          "text": [
            "293998\n"
          ],
          "name": "stdout"
        }
      ]
    },
    {
      "cell_type": "code",
      "metadata": {
        "id": "MsE-I0sUNJSh",
        "colab_type": "code",
        "colab": {}
      },
      "source": [
        "#print(vocab_size)\n",
        "sequences = tokenizer.texts_to_sequences(sentence)\n",
        "padded = pad_sequences(sequences, maxlen=max_length, padding = padding_type, truncating=trunc_type)"
      ],
      "execution_count": null,
      "outputs": []
    },
    {
      "cell_type": "code",
      "metadata": {
        "id": "3ikzrB5RNJba",
        "colab_type": "code",
        "colab": {}
      },
      "source": [
        "#test data \n",
        "t_seq = tokenizer.texts_to_sequences(x_test)\n",
        "t_pad = pad_sequences(t_seq, maxlen=max_length, padding=padding_type, truncating=trunc_type)\n",
        "\n",
        "y_test = y_test/4.0\n",
        "test_seq = t_pad\n"
      ],
      "execution_count": null,
      "outputs": []
    },
    {
      "cell_type": "code",
      "metadata": {
        "id": "-p4TigDrNH6f",
        "colab_type": "code",
        "colab": {}
      },
      "source": [
        "#no need of this if we are not training model\n",
        "\n",
        "train_val_split = int(0.9 * training_size)\n",
        "\n",
        "train_sequences = padded[0:train_val_split] \n",
        "val_sequences = padded[train_val_split:]\n",
        "train_labels  = y[0:train_val_split] \n",
        "val_labels = y[train_val_split:]\n",
        "train_labels= train_labels/4.0              #positive labels were 4.0. so, making them 1.0\n",
        "val_labels = val_labels/4.0"
      ],
      "execution_count": null,
      "outputs": []
    },
    {
      "cell_type": "markdown",
      "metadata": {
        "id": "SsARjAxQNJkl",
        "colab_type": "text"
      },
      "source": [
        "#no need of this if we are not training model\n",
        "train_val_split = int(0.9 * training_size)\n",
        "\n",
        "train_sequences = padded[0:train_val_split] \n",
        "val_sequences = padded[train_val_split:]\n",
        "train_labels  = y[0:train_val_split] \n",
        "val_labels = y[train_val_split:]\n",
        "train_labels= train_labels/4.0              #positive labels were 4.0. so, making them 1.0\n",
        "val_labels = val_labels/4.0"
      ]
    },
    {
      "cell_type": "code",
      "metadata": {
        "id": "Vj-xvoNnNJwM",
        "colab_type": "code",
        "colab": {
          "base_uri": "https://localhost:8080/",
          "height": 210
        },
        "outputId": "161fdc18-4cbd-49cb-ceb7-60f3da9f5e54"
      },
      "source": [
        "#no need to run this as we already have saved model\n",
        "\n",
        "# Note this is the 100 dimension version of GloVe from Stanford\n",
        "!wget --no-check-certificate \\\n",
        "    https://storage.googleapis.com/laurencemoroney-blog.appspot.com/glove.6B.100d.txt \\\n",
        "    -O /tmp/glove.6B.100d.txt\n",
        "\n",
        "\n",
        "  #  http://nlp.stanford.edu/data/wordvecs/glove.6B.zip\n",
        "\n",
        "\n",
        "\n",
        "embeddings_index = {};\n",
        "with open('/tmp/glove.6B.100d.txt') as file:\n",
        "    for line in file:\n",
        "        values = line.split();\n",
        "        word = values[0];\n",
        "        coefs = np.asarray(values[1:], dtype='float32');\n",
        "        embeddings_index[word] = coefs;\n",
        "\n",
        "embeddings_matrix = np.zeros((vocab_size+1, embedding_dim));\n",
        "for word, i in word_index.items():\n",
        "    embedding_vector = embeddings_index.get(word);\n",
        "    if embedding_vector is not None:\n",
        "        embeddings_matrix[i] = embedding_vector;"
      ],
      "execution_count": null,
      "outputs": [
        {
          "output_type": "stream",
          "text": [
            "--2020-06-28 04:52:59--  https://storage.googleapis.com/laurencemoroney-blog.appspot.com/glove.6B.100d.txt\n",
            "Resolving storage.googleapis.com (storage.googleapis.com)... 173.194.197.128, 209.85.146.128, 74.125.124.128, ...\n",
            "Connecting to storage.googleapis.com (storage.googleapis.com)|173.194.197.128|:443... connected.\n",
            "HTTP request sent, awaiting response... 200 OK\n",
            "Length: 347116733 (331M) [text/plain]\n",
            "Saving to: ‘/tmp/glove.6B.100d.txt’\n",
            "\n",
            "/tmp/glove.6B.100d. 100%[===================>] 331.04M   119MB/s    in 2.8s    \n",
            "\n",
            "2020-06-28 04:53:02 (119 MB/s) - ‘/tmp/glove.6B.100d.txt’ saved [347116733/347116733]\n",
            "\n"
          ],
          "name": "stdout"
        }
      ]
    },
    {
      "cell_type": "code",
      "metadata": {
        "id": "I4_RH1GtNJ6z",
        "colab_type": "code",
        "colab": {
          "base_uri": "https://localhost:8080/",
          "height": 1000
        },
        "outputId": "fe977809-8fa9-49ce-9605-6ff9153e261a"
      },
      "source": [
        "#mdoel training\n",
        "\n",
        "model = tf.keras.Sequential([\n",
        "   tf.keras.layers. Embedding(vocab_size+1, embedding_dim, weights=[embeddings_matrix], input_length=max_length, trainable=False),\n",
        "   tf.keras.layers.Dropout(0.3), \n",
        "   tf.keras.layers.Conv1D(128, 5, activation='relu'),\n",
        "   tf.keras.layers.MaxPooling1D(pool_size=4),\n",
        "   tf.keras.layers.Conv1D(256, 3, activation='relu'),\n",
        "   tf.keras.layers.MaxPooling1D(pool_size=2),\n",
        "    tf.keras.layers.Bidirectional(LSTM(128, dropout=0.2, recurrent_dropout=0.2)),\n",
        "    tf.keras.layers.Dense(128, activation='relu'),\n",
        "    tf.keras.layers.Dense(1, activation='sigmoid')\n",
        "])\n",
        "model.compile(loss='binary_crossentropy', optimizer='adam', metrics='accuracy') \n",
        "model.summary()\n",
        "\n",
        "num_epochs = 20\n",
        "history = model.fit(train_sequences, train_labels, batch_size = 1024, epochs=num_epochs,steps_per_epoch=200, validation_data=(val_sequences, val_labels), verbose=2)\n",
        "\n",
        "print(\"Complete\")"
      ],
      "execution_count": null,
      "outputs": [
        {
          "output_type": "stream",
          "text": [
            "Model: \"sequential_1\"\n",
            "_________________________________________________________________\n",
            "Layer (type)                 Output Shape              Param #   \n",
            "=================================================================\n",
            "embedding_1 (Embedding)      (None, 100, 100)          29399900  \n",
            "_________________________________________________________________\n",
            "dropout_1 (Dropout)          (None, 100, 100)          0         \n",
            "_________________________________________________________________\n",
            "conv1d_2 (Conv1D)            (None, 96, 128)           64128     \n",
            "_________________________________________________________________\n",
            "max_pooling1d_2 (MaxPooling1 (None, 24, 128)           0         \n",
            "_________________________________________________________________\n",
            "conv1d_3 (Conv1D)            (None, 22, 256)           98560     \n",
            "_________________________________________________________________\n",
            "max_pooling1d_3 (MaxPooling1 (None, 11, 256)           0         \n",
            "_________________________________________________________________\n",
            "bidirectional_1 (Bidirection (None, 256)               394240    \n",
            "_________________________________________________________________\n",
            "dense_2 (Dense)              (None, 128)               32896     \n",
            "_________________________________________________________________\n",
            "dense_3 (Dense)              (None, 1)                 129       \n",
            "=================================================================\n",
            "Total params: 29,989,853\n",
            "Trainable params: 589,953\n",
            "Non-trainable params: 29,399,900\n",
            "_________________________________________________________________\n",
            "Epoch 1/20\n",
            "200/200 - 422s - loss: 0.5933 - accuracy: 0.6757 - val_loss: 0.5201 - val_accuracy: 0.7394\n",
            "Epoch 2/20\n",
            "200/200 - 422s - loss: 0.5330 - accuracy: 0.7297 - val_loss: 0.4932 - val_accuracy: 0.7591\n",
            "Epoch 3/20\n",
            "200/200 - 420s - loss: 0.5192 - accuracy: 0.7402 - val_loss: 0.4807 - val_accuracy: 0.7679\n",
            "Epoch 4/20\n",
            "200/200 - 418s - loss: 0.5073 - accuracy: 0.7495 - val_loss: 0.4712 - val_accuracy: 0.7734\n",
            "Epoch 5/20\n",
            "200/200 - 422s - loss: 0.4992 - accuracy: 0.7547 - val_loss: 0.4666 - val_accuracy: 0.7765\n",
            "Epoch 6/20\n",
            "200/200 - 418s - loss: 0.4927 - accuracy: 0.7584 - val_loss: 0.4588 - val_accuracy: 0.7815\n",
            "Epoch 7/20\n",
            "200/200 - 420s - loss: 0.4870 - accuracy: 0.7635 - val_loss: 0.4572 - val_accuracy: 0.7835\n",
            "Epoch 8/20\n",
            "200/200 - 418s - loss: 0.4845 - accuracy: 0.7644 - val_loss: 0.4531 - val_accuracy: 0.7860\n",
            "Epoch 9/20\n",
            "200/200 - 418s - loss: 0.4791 - accuracy: 0.7684 - val_loss: 0.4523 - val_accuracy: 0.7871\n",
            "Epoch 10/20\n",
            "200/200 - 418s - loss: 0.4775 - accuracy: 0.7683 - val_loss: 0.4482 - val_accuracy: 0.7885\n",
            "Epoch 11/20\n",
            "200/200 - 420s - loss: 0.4712 - accuracy: 0.7729 - val_loss: 0.4460 - val_accuracy: 0.7903\n",
            "Epoch 12/20\n",
            "200/200 - 416s - loss: 0.4721 - accuracy: 0.7731 - val_loss: 0.4435 - val_accuracy: 0.7917\n",
            "Epoch 13/20\n",
            "200/200 - 420s - loss: 0.4695 - accuracy: 0.7734 - val_loss: 0.4442 - val_accuracy: 0.7902\n",
            "Epoch 14/20\n",
            "200/200 - 419s - loss: 0.4699 - accuracy: 0.7744 - val_loss: 0.4461 - val_accuracy: 0.7919\n",
            "Epoch 15/20\n",
            "200/200 - 418s - loss: 0.4647 - accuracy: 0.7773 - val_loss: 0.4444 - val_accuracy: 0.7917\n",
            "Epoch 16/20\n",
            "200/200 - 417s - loss: 0.4620 - accuracy: 0.7795 - val_loss: 0.4383 - val_accuracy: 0.7961\n",
            "Epoch 17/20\n",
            "200/200 - 418s - loss: 0.4620 - accuracy: 0.7797 - val_loss: 0.4371 - val_accuracy: 0.7951\n",
            "Epoch 18/20\n",
            "200/200 - 418s - loss: 0.4603 - accuracy: 0.7809 - val_loss: 0.4372 - val_accuracy: 0.7962\n",
            "Epoch 19/20\n",
            "200/200 - 417s - loss: 0.4615 - accuracy: 0.7798 - val_loss: 0.4407 - val_accuracy: 0.7930\n",
            "Epoch 20/20\n",
            "200/200 - 420s - loss: 0.4580 - accuracy: 0.7819 - val_loss: 0.4330 - val_accuracy: 0.7982\n",
            "Complete\n"
          ],
          "name": "stdout"
        }
      ]
    },
    {
      "cell_type": "code",
      "metadata": {
        "id": "_G2xxpnEUjUj",
        "colab_type": "code",
        "colab": {
          "base_uri": "https://localhost:8080/",
          "height": 107
        },
        "outputId": "afdb3b83-2f8f-4720-b729-4ff25ef7e645"
      },
      "source": [
        "#save model\n",
        "model.save('/content/drive/My Drive/sentiment analysis/model7880')"
      ],
      "execution_count": null,
      "outputs": [
        {
          "output_type": "stream",
          "text": [
            "WARNING:tensorflow:From /usr/local/lib/python3.6/dist-packages/tensorflow/python/ops/resource_variable_ops.py:1817: calling BaseResourceVariable.__init__ (from tensorflow.python.ops.resource_variable_ops) with constraint is deprecated and will be removed in a future version.\n",
            "Instructions for updating:\n",
            "If using Keras pass *_constraint arguments to layers.\n",
            "INFO:tensorflow:Assets written to: /content/drive/My Drive/sentiment analysis/model7880/assets\n"
          ],
          "name": "stdout"
        }
      ]
    },
    {
      "cell_type": "markdown",
      "metadata": {
        "id": "yEbsKG2-7YyU",
        "colab_type": "text"
      },
      "source": [
        ""
      ]
    },
    {
      "cell_type": "code",
      "metadata": {
        "id": "6A_TwccJNKFE",
        "colab_type": "code",
        "colab": {
          "base_uri": "https://localhost:8080/",
          "height": 608
        },
        "outputId": "e878a72f-d4e6-40d8-c776-d641640356e1"
      },
      "source": [
        "#plot of training\n",
        "import matplotlib.image  as mpimg\n",
        "import matplotlib.pyplot as plt\n",
        "\n",
        "\n",
        "acc=history.history['accuracy']\n",
        "val_acc=history.history['val_accuracy']\n",
        "loss=history.history['loss']\n",
        "val_loss=history.history['val_loss']\n",
        "\n",
        "epochs=range(len(acc))\n",
        "plt.plot(epochs, acc, 'r')\n",
        "plt.plot(epochs, val_acc, 'b')\n",
        "plt.title('Training and validation accuracy')\n",
        "plt.xlabel(\"Epochs\")\n",
        "plt.ylabel(\"Accuracy\")\n",
        "plt.legend([\"Accuracy\", \"Validation Accuracy\"])\n",
        "\n",
        "plt.figure()\n",
        "\n",
        "\n",
        "plt.plot(epochs, loss, 'r')\n",
        "plt.plot(epochs, val_loss, 'b')\n",
        "plt.title('Training and validation loss')\n",
        "plt.xlabel(\"Epochs\")\n",
        "plt.ylabel(\"Loss\")\n",
        "plt.legend([\"Loss\", \"Validation Loss\"])\n",
        "\n",
        "plt.figure()\n",
        "\n"
      ],
      "execution_count": null,
      "outputs": [
        {
          "output_type": "execute_result",
          "data": {
            "text/plain": [
              "<Figure size 432x288 with 0 Axes>"
            ]
          },
          "metadata": {
            "tags": []
          },
          "execution_count": 17
        },
        {
          "output_type": "display_data",
          "data": {
            "image/png": "[encoded data removed]",
            "text/plain": [
              "<Figure size 432x288 with 1 Axes>"
            ]
          },
          "metadata": {
            "tags": [],
            "needs_background": "light"
          }
        },
        {
          "output_type": "display_data",
          "data": {
            "image/png": "[encoded data removed]",
            "text/plain": [
              "<Figure size 432x288 with 1 Axes>"
            ]
          },
          "metadata": {
            "tags": [],
            "needs_background": "light"
          }
        },
        {
          "output_type": "display_data",
          "data": {
            "text/plain": [
              "<Figure size 432x288 with 0 Axes>"
            ]
          },
          "metadata": {
            "tags": []
          }
        }
      ]
    },
    {
      "cell_type": "code",
      "metadata": {
        "id": "AN3FSlzBPx-n",
        "colab_type": "code",
        "colab": {
          "base_uri": "https://localhost:8080/",
          "height": 34
        },
        "outputId": "b6e44b02-2355-4530-f0ca-a6fb7e7bf6e4"
      },
      "source": [
        "#saving as json file\n",
        "import json\n",
        "model_json = model.to_json()\n",
        "with open(\"/content/drive/My Drive/sentiment analysis/model2.json\", \"w\") as json_file:\n",
        "  json_file.write(model_json)\n",
        "model.save_weights(\"/content/drive/My Drive/sentiment analysis/model2.h5\")\n",
        "print(\"saved to drive as json file\")"
      ],
      "execution_count": null,
      "outputs": [
        {
          "output_type": "stream",
          "text": [
            "saved to drive as json file\n"
          ],
          "name": "stdout"
        }
      ]
    },
    {
      "cell_type": "code",
      "metadata": {
        "id": "kuATFuDGVihY",
        "colab_type": "code",
        "colab": {}
      },
      "source": [
        "#load model\n",
        "\n",
        "model = tf.keras.models.load_model('/content/drive/My Drive/sentiment analysis/model7880')"
      ],
      "execution_count": null,
      "outputs": []
    },
    {
      "cell_type": "code",
      "metadata": {
        "id": "0x4B8ClENKZ7",
        "colab_type": "code",
        "colab": {
          "base_uri": "https://localhost:8080/",
          "height": 34
        },
        "outputId": "ff0bcdd7-ceb2-471b-a698-ee53cd5ae610"
      },
      "source": [
        "#test data evaluation\n",
        "score = model.evaluate(test_seq, y_test, batch_size=64)"
      ],
      "execution_count": null,
      "outputs": [
        {
          "output_type": "stream",
          "text": [
            "6/6 [==============================] - 0s 29ms/step - loss: 0.3842 - accuracy: 0.8217\n"
          ],
          "name": "stdout"
        }
      ]
    },
    {
      "cell_type": "code",
      "metadata": {
        "id": "KAngPjtyrB-H",
        "colab_type": "code",
        "colab": {
          "base_uri": "https://localhost:8080/",
          "height": 125
        },
        "outputId": "08c22222-f8d4-4c21-eae8-ab9cbd58915c"
      },
      "source": [
        "from google.colab import drive\n",
        "drive.mount('/content/drive')"
      ],
      "execution_count": null,
      "outputs": [
        {
          "output_type": "stream",
          "text": [
            "Go to this URL in a browser: https://accounts.google.com/o/oauth2/auth?client_id=947318989803-6bn6qk8qdgf4n4g3pfee6491hc0brc4i.apps.googleusercontent.com&redirect_uri=urn%3aietf%3awg%3aoauth%3a2.0%3aoob&response_type=code&scope=email%20https%3a%2f%2fwww.googleapis.com%2fauth%2fdocs.test%20https%3a%2f%2fwww.googleapis.com%2fauth%2fdrive%20https%3a%2f%2fwww.googleapis.com%2fauth%2fdrive.photos.readonly%20https%3a%2f%2fwww.googleapis.com%2fauth%2fpeopleapi.readonly\n",
            "\n",
            "Enter your authorization code:\n",
            "··········\n",
            "Mounted at /content/drive\n"
          ],
          "name": "stdout"
        }
      ]
    },
    {
      "cell_type": "code",
      "metadata": {
        "id": "QIhOLn7gNKuP",
        "colab_type": "code",
        "colab": {
          "base_uri": "https://localhost:8080/",
          "height": 246
        },
        "outputId": "2af56117-e6fb-45fb-bac4-04b227da3b09"
      },
      "source": [
        "#conclusion \n",
        "import re\n",
        "import string\n",
        "import numpy as np\n",
        "import pickle\n",
        "\n",
        "import tensorflow as tf\n",
        "from tensorflow.keras.preprocessing.text import Tokenizer\n",
        "from tensorflow.keras.preprocessing.sequence import pad_sequences\n",
        "import nltk\n",
        "from  nltk.stem import SnowballStemmer\n",
        "stemmer = SnowballStemmer(\"english\")\n",
        "\n",
        "embedding_dim = 100\n",
        "max_length = 100\n",
        "trunc_type='post'\n",
        "padding_type='post'\n",
        "oov_tok = \"<OOV>\"\n",
        "stop_words = ['i', 'me', 'my', 'myself', 'we', 'our', 'ours', 'ourselves', 'you', \"you're\", \"you've\", \"you'll\", \"you'd\", 'your', 'yours', 'yourself', 'yourselves', 'he', 'him', 'his', 'himself', 'she', \"she's\", 'her', 'hers', 'herself', 'it', \"it's\", 'its', 'itself', 'they', 'them', 'their', 'theirs', 'themselves', 'what', 'which', 'who', 'whom', 'this', 'that', \"that'll\", 'these', 'those', 'am', 'is', 'are', 'was', 'were', 'be', 'been', 'being', 'have', 'has', 'had', 'having', 'do', 'does', 'did', 'doing', 'a', 'an', 'the', 'and', 'but', 'if', 'or', 'because', 'as', 'until', 'while', 'of', 'at', 'by', 'for', 'with', 'about', 'against', 'between', 'into', 'through', 'during', 'before', 'after', 'above', 'below', 'to', 'from', 'up', 'down', 'in', 'out', 'on', 'off', 'over', 'under', 'again', 'further', 'then', 'once', 'here', 'there', 'when', 'where', 'why', 'how', 'all', 'any', 'both', 'each', 'few', 'more', 'most', 'other', 'some', 'such', 'only', 'own', 'same', 'so', 'than', 'too', 'very', 's', 't', 'can', 'will', 'just', 'don', 'should', \"should've\", 'now', 'd', 'll', 'm', 'o', 're', 've', 'y', 'ma', 'mightn', 'mustn', 'needn', 'shan']\n",
        "#stop_words = ['list of stop words'] # i'll provide this\n",
        "\n",
        "def strip_links(text):\n",
        "    link_regex    = re.compile('((https?):((//)|(\\\\\\\\))+([\\w\\d:#@%/;$()~_?\\+-=\\\\\\.&](#!)?)*)', re.DOTALL)\n",
        "    links         = re.findall(link_regex, text)\n",
        "    for link in links:\n",
        "        text = text.replace(link[0], ', ')    \n",
        "    return text\n",
        "\n",
        "def strip_all_entities(text):\n",
        "    entity_prefixes = ['@','#']\n",
        "    for separator in  string.punctuation:\n",
        "        if separator not in entity_prefixes :\n",
        "            text = text.replace(separator,' ')\n",
        "    words = []\n",
        "    for word in text.split():\n",
        "        word = word.strip()\n",
        "        if word:\n",
        "            if word[0] not in entity_prefixes:\n",
        "                words.append(word)\n",
        "    return ' '.join(words)\n",
        "\n",
        "def preprocess(line):\n",
        "    line = line.lower()\n",
        "    #stopwords removal\n",
        "    for word in stop_words:\n",
        "      token = \" \" + word + \" \"\n",
        "      line = line.replace(token, \" \")\n",
        "      line = line.replace(\"  \", \" \")\n",
        "    #stemming   \n",
        "    tokens = []\n",
        "    for token in line.split():\n",
        "      tokens.append(stemmer.stem(token))\n",
        "    return \" \".join(tokens)\n",
        "\n",
        "\n",
        "tokenizer= Tokenizer(oov_token=oov_tok)\n",
        "tokenizer = pickle.load(open(\"/content/drive/My Drive/sentiment analysis/tokenizerfinal.p\", \"rb\"))\n",
        "##word_index = pickle.load(open(\"/content/drive/My Drive/sentiment analysis/wordindex.p\", \"rb\"))    #these two lines can be omitted, just kept here to see word word index\n",
        "##vocab_size = len(word_index)\n",
        "model = tf.keras.models.load_model('/content/drive/My Drive/sentiment analysis/model7880')\n"
      ],
      "execution_count": null,
      "outputs": [
        {
          "output_type": "stream",
          "text": [
            "i current use nikon d90 love not much canon 40d 50d chose d90 video featur mistak\n",
            "[[    2   793   102  6647 16871     9   201    44  4610 27648 25433  3692\n",
            "  16871   252  1438  1723     0     0     0     0     0     0     0     0\n",
            "      0     0     0     0     0     0     0     0     0     0     0     0\n",
            "      0     0     0     0     0     0     0     0     0     0     0     0\n",
            "      0     0     0     0     0     0     0     0     0     0     0     0\n",
            "      0     0     0     0     0     0     0     0     0     0     0     0\n",
            "      0     0     0     0     0     0     0     0     0     0     0     0\n",
            "      0     0     0     0     0     0     0     0     0     0     0     0\n",
            "      0     0     0     0]]\n",
            "1/1 - 0s\n",
            "[0.75352895]\n",
            "positive\n"
          ],
          "name": "stdout"
        }
      ]
    },
    {
      "cell_type": "code",
      "metadata": {
        "id": "iZGiel0YNK20",
        "colab_type": "code",
        "colab": {}
      },
      "source": [
        "def predict(twt):\n",
        "  twt = strip_links(twt)    #optional\n",
        "  twt = strip_all_entities(twt)  #optional (it removes @username #name)\n",
        "  print(twt)\n",
        "  ls = []\n",
        "  ls.append(twt)\n",
        "  twt = tokenizer.texts_to_sequences(ls)\n",
        "  twt = pad_sequences(twt, maxlen=max_length, padding = padding_type, truncating=trunc_type)\n",
        "  #print(twt)\n",
        "  sentiment = model.predict(twt,batch_size=1,verbose = 2)[0]\n",
        "  ans = np.around(sentiment)\n",
        "  print(sentiment)\n",
        "  if ans ==1:\n",
        "    print('positive')\n",
        "  else:\n",
        "    print('negative')"
      ],
      "execution_count": null,
      "outputs": []
    },
    {
      "cell_type": "code",
      "metadata": {
        "id": "17sBxqUiNLJ0",
        "colab_type": "code",
        "colab": {
          "base_uri": "https://localhost:8080/",
          "height": 166
        },
        "outputId": "ed33bbcc-d065-4710-e7e2-da124b779fb0"
      },
      "source": [
        "predict('you are pretty ugly')"
      ],
      "execution_count": null,
      "outputs": [
        {
          "output_type": "error",
          "ename": "NameError",
          "evalue": "ignored",
          "traceback": [
            "\u001b[0;31m---------------------------------------------------------------------------\u001b[0m",
            "\u001b[0;31mNameError\u001b[0m                                 Traceback (most recent call last)",
            "\u001b[0;32m<ipython-input-22-1adcd2a9b97b>\u001b[0m in \u001b[0;36m<module>\u001b[0;34m()\u001b[0m\n\u001b[0;32m----> 1\u001b[0;31m \u001b[0mpredict\u001b[0m\u001b[0;34m(\u001b[0m\u001b[0;34m'you are pretty ugly'\u001b[0m\u001b[0;34m)\u001b[0m\u001b[0;34m\u001b[0m\u001b[0;34m\u001b[0m\u001b[0m\n\u001b[0m",
            "\u001b[0;31mNameError\u001b[0m: name 'predict' is not defined"
          ]
        }
      ]
    }
  ]
}